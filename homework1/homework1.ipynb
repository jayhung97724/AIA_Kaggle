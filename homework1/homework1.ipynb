{
 "cells": [
  {
   "cell_type": "markdown",
   "metadata": {},
   "source": [
    "## 引入套件"
   ]
  },
  {
   "cell_type": "code",
   "execution_count": 1,
   "metadata": {
    "collapsed": true
   },
   "outputs": [],
   "source": [
    "from sklearn.svm import LinearSVC\n",
    "from sklearn.model_selection import train_test_split\n",
    "import numpy as np\n",
    "import pandas as pd\n",
    "import os\n",
    "import matplotlib.pyplot as plt\n",
    "from sklearn import metrics"
   ]
  },
  {
   "cell_type": "markdown",
   "metadata": {},
   "source": [
    "## 載入資料"
   ]
  },
  {
   "cell_type": "code",
   "execution_count": 2,
   "metadata": {},
   "outputs": [],
   "source": [
    "# Load in the train datasets\n",
    "train = pd.read_csv('data/train.csv', encoding = \"utf-8\", dtype = {'type': np.int32})\n",
    "test = pd.read_csv('data/test.csv', encoding = \"utf-8\")\n",
    "submission = pd.read_csv('data/submissionOld.csv', encoding = \"utf-8\", dtype = {'type': np.int32})"
   ]
  },
  {
   "cell_type": "code",
   "execution_count": 3,
   "metadata": {},
   "outputs": [
    {
     "data": {
      "text/html": [
       "<div>\n",
       "<table border=\"1\" class=\"dataframe\">\n",
       "  <thead>\n",
       "    <tr style=\"text-align: right;\">\n",
       "      <th></th>\n",
       "      <th>id</th>\n",
       "      <th>花萼長度</th>\n",
       "      <th>花萼寬度</th>\n",
       "      <th>花瓣長度</th>\n",
       "      <th>花瓣寬度</th>\n",
       "    </tr>\n",
       "  </thead>\n",
       "  <tbody>\n",
       "    <tr>\n",
       "      <th>0</th>\n",
       "      <td>1</td>\n",
       "      <td>5.1</td>\n",
       "      <td>3.5</td>\n",
       "      <td>1.4</td>\n",
       "      <td>0.2</td>\n",
       "    </tr>\n",
       "    <tr>\n",
       "      <th>1</th>\n",
       "      <td>2</td>\n",
       "      <td>4.9</td>\n",
       "      <td>3.0</td>\n",
       "      <td>1.4</td>\n",
       "      <td>0.2</td>\n",
       "    </tr>\n",
       "    <tr>\n",
       "      <th>2</th>\n",
       "      <td>3</td>\n",
       "      <td>4.7</td>\n",
       "      <td>3.2</td>\n",
       "      <td>1.3</td>\n",
       "      <td>0.2</td>\n",
       "    </tr>\n",
       "    <tr>\n",
       "      <th>3</th>\n",
       "      <td>4</td>\n",
       "      <td>4.6</td>\n",
       "      <td>3.1</td>\n",
       "      <td>1.5</td>\n",
       "      <td>0.2</td>\n",
       "    </tr>\n",
       "    <tr>\n",
       "      <th>4</th>\n",
       "      <td>5</td>\n",
       "      <td>5.0</td>\n",
       "      <td>3.6</td>\n",
       "      <td>1.4</td>\n",
       "      <td>0.2</td>\n",
       "    </tr>\n",
       "  </tbody>\n",
       "</table>\n",
       "</div>"
      ],
      "text/plain": [
       "   id  花萼長度  花萼寬度  花瓣長度  花瓣寬度\n",
       "0   1   5.1   3.5   1.4   0.2\n",
       "1   2   4.9   3.0   1.4   0.2\n",
       "2   3   4.7   3.2   1.3   0.2\n",
       "3   4   4.6   3.1   1.5   0.2\n",
       "4   5   5.0   3.6   1.4   0.2"
      ]
     },
     "execution_count": 3,
     "metadata": {},
     "output_type": "execute_result"
    }
   ],
   "source": [
    "test.head()"
   ]
  },
  {
   "cell_type": "code",
   "execution_count": 4,
   "metadata": {},
   "outputs": [
    {
     "data": {
      "text/plain": [
       "(123, 7)"
      ]
     },
     "execution_count": 4,
     "metadata": {},
     "output_type": "execute_result"
    }
   ],
   "source": [
    "train.shape"
   ]
  },
  {
   "cell_type": "code",
   "execution_count": 5,
   "metadata": {},
   "outputs": [
    {
     "data": {
      "text/html": [
       "<div>\n",
       "<table border=\"1\" class=\"dataframe\">\n",
       "  <thead>\n",
       "    <tr style=\"text-align: right;\">\n",
       "      <th></th>\n",
       "      <th>id</th>\n",
       "      <th>type</th>\n",
       "    </tr>\n",
       "  </thead>\n",
       "  <tbody>\n",
       "    <tr>\n",
       "      <th>0</th>\n",
       "      <td>1</td>\n",
       "      <td>0</td>\n",
       "    </tr>\n",
       "    <tr>\n",
       "      <th>1</th>\n",
       "      <td>2</td>\n",
       "      <td>0</td>\n",
       "    </tr>\n",
       "    <tr>\n",
       "      <th>2</th>\n",
       "      <td>3</td>\n",
       "      <td>0</td>\n",
       "    </tr>\n",
       "    <tr>\n",
       "      <th>3</th>\n",
       "      <td>4</td>\n",
       "      <td>0</td>\n",
       "    </tr>\n",
       "    <tr>\n",
       "      <th>4</th>\n",
       "      <td>5</td>\n",
       "      <td>0</td>\n",
       "    </tr>\n",
       "  </tbody>\n",
       "</table>\n",
       "</div>"
      ],
      "text/plain": [
       "   id  type\n",
       "0   1     0\n",
       "1   2     0\n",
       "2   3     0\n",
       "3   4     0\n",
       "4   5     0"
      ]
     },
     "execution_count": 5,
     "metadata": {},
     "output_type": "execute_result"
    }
   ],
   "source": [
    "submission.head()"
   ]
  },
  {
   "cell_type": "markdown",
   "metadata": {},
   "source": [
    "### 訓練資料有空值，先處理"
   ]
  },
  {
   "cell_type": "code",
   "execution_count": 6,
   "metadata": {},
   "outputs": [
    {
     "data": {
      "text/plain": [
       "(121, 7)"
      ]
     },
     "execution_count": 6,
     "metadata": {},
     "output_type": "execute_result"
    }
   ],
   "source": [
    "#直接把 NaN drop (如果筆數很少,不影響建模的時候)\n",
    "train_d_na = train.dropna().reset_index(drop=True)\n",
    "train_d_na.shape # 印出檢查"
   ]
  },
  {
   "cell_type": "markdown",
   "metadata": {},
   "source": [
    "## 切分資料來訓練"
   ]
  },
  {
   "cell_type": "code",
   "execution_count": 7,
   "metadata": {
    "scrolled": true
   },
   "outputs": [],
   "source": [
    "X = train_d_na.iloc[:,1:5]\n",
    "y = train_d_na.iloc[:,-1]\n",
    "X_train, X_test, y_train, y_test = train_test_split(X, y, test_size = 0.3, random_state=40, shuffle=True)\n",
    "# 將已標好標籤的資料切割成train和test，以方便測驗自己的準確度，也可幫助避免 overfitting 的問題"
   ]
  },
  {
   "cell_type": "markdown",
   "metadata": {},
   "source": [
    "### 標準化"
   ]
  },
  {
   "cell_type": "code",
   "execution_count": 8,
   "metadata": {},
   "outputs": [
    {
     "data": {
      "text/plain": [
       "array([[-0.05638233, -0.91440255,  0.07088322, -0.02968594],\n",
       "       [ 0.71163645, -0.91440255,  0.88019065,  0.88901584],\n",
       "       [-0.56839485,  0.85424449, -1.31650095, -1.07963083],\n",
       "       [ 0.83963958,  0.34891676,  0.7645753 ,  1.02025895],\n",
       "       [ 1.09564584,  0.0962529 ,  0.35992159,  0.23280028],\n",
       "       [-0.95240424,  1.86489993, -1.31650095, -1.21087394],\n",
       "       [-0.44039172,  1.10690835, -1.43211629, -1.34211705],\n",
       "       [ 1.22364897,  0.34891676,  1.22703669,  1.41398828],\n",
       "       [-1.2084105 ,  0.0962529 , -1.31650095, -1.47336017],\n",
       "       [-0.82440111,  0.85424449, -1.37430862, -1.34211705],\n",
       "       [-1.33641363,  0.0962529 , -1.25869327, -1.34211705],\n",
       "       [ 2.37567714, -0.15641096,  1.34265204,  1.41398828],\n",
       "       [ 0.71163645,  0.34891676,  0.88019065,  1.41398828],\n",
       "       [ 0.32762706,  0.34891676,  0.7645753 ,  0.75777273],\n",
       "       [ 2.37567714, -1.16706641,  1.80511342,  1.41398828],\n",
       "       [ 1.73566149,  0.34891676,  1.28484436,  0.75777273],\n",
       "       [-0.95240424,  1.86489993, -1.08527025, -1.07963083],\n",
       "       [ 1.73566149, -0.15641096,  1.16922902,  0.4952865 ],\n",
       "       [ 0.71163645, -0.66173869,  1.05361367,  1.15150206],\n",
       "       [-1.08040737,  1.10690835, -1.25869327, -0.81714461],\n",
       "       [-1.33641363,  0.85424449, -1.25869327, -1.34211705],\n",
       "       [-0.56839485,  1.61223607, -1.31650095, -1.34211705],\n",
       "       [-1.2084105 ,  0.0962529 , -1.31650095, -1.47336017],\n",
       "       [-0.56839485,  0.85424449, -1.2008856 , -1.34211705],\n",
       "       [ 0.45563019, -0.40907482,  0.30211391,  0.10155717],\n",
       "       [ 0.19962393, -0.91440255,  0.7645753 ,  0.4952865 ],\n",
       "       [-0.05638233, -0.66173869,  0.7645753 ,  1.54523139],\n",
       "       [-0.95240424,  1.86489993, -1.25869327, -1.34211705],\n",
       "       [ 1.09564584,  0.0962529 ,  0.53334461,  0.36404339],\n",
       "       [ 1.09564584, -0.15641096,  0.70676763,  0.62652961],\n",
       "       [ 0.58363332, -0.91440255,  0.64895995,  0.75777273],\n",
       "       [-1.08040737,  0.34891676, -1.48992397, -1.34211705],\n",
       "       [ 0.0716208 , -0.15641096,  0.24430624,  0.36404339],\n",
       "       [ 0.45563019,  0.85424449,  0.93799832,  1.41398828],\n",
       "       [ 1.09564584,  0.60158062,  1.11142134,  1.6764745 ],\n",
       "       [-0.18438546,  3.38088311, -1.31650095, -1.07963083],\n",
       "       [ 1.09564584,  0.0962529 ,  1.05361367,  1.54523139],\n",
       "       [-1.33641363, -0.15641096, -1.37430862, -1.21087394],\n",
       "       [ 0.32762706, -0.40907482,  0.53334461,  0.23280028],\n",
       "       [-0.31238859, -0.15641096,  0.41772926,  0.36404339],\n",
       "       [-0.31238859, -0.40907482, -0.1025398 ,  0.10155717],\n",
       "       [-0.44039172, -1.67239413,  0.01307555, -0.16092905],\n",
       "       [ 0.32762706, -0.15641096,  0.64895995,  0.75777273],\n",
       "       [ 0.58363332, -1.925058  ,  0.35992159,  0.10155717],\n",
       "       [ 0.58363332, -0.66173869,  0.7645753 ,  0.36404339],\n",
       "       [ 1.09564584, -0.15641096,  0.82238297,  1.41398828],\n",
       "       [ 1.22364897, -0.15641096,  0.995806  ,  1.15150206],\n",
       "       [ 0.83963958, -0.15641096,  0.82238297,  1.02025895],\n",
       "       [-0.95240424,  0.60158062, -1.2008856 , -0.94838772],\n",
       "       [-1.84842615, -0.15641096, -1.43211629, -1.34211705],\n",
       "       [ 0.71163645,  0.0962529 ,  0.995806  ,  0.75777273],\n",
       "       [ 0.19962393, -0.15641096,  0.59115228,  0.75777273],\n",
       "       [-0.05638233, -0.91440255,  0.7645753 ,  0.88901584],\n",
       "       [-1.97642928, -0.15641096, -1.54773164, -1.47336017],\n",
       "       [-0.82440111,  2.62289152, -1.31650095, -1.47336017],\n",
       "       [ 1.3516521 ,  0.0962529 ,  0.93799832,  1.15150206],\n",
       "       [ 0.19962393, -0.40907482,  0.41772926,  0.36404339],\n",
       "       [ 2.37567714, -0.66173869,  1.68949808,  1.02025895],\n",
       "       [-1.33641363,  0.85424449, -1.08527025, -1.34211705],\n",
       "       [-0.18438546, -0.66173869,  0.18649857,  0.10155717],\n",
       "       [-1.08040737,  1.10690835, -1.43211629, -1.21087394],\n",
       "       [ 0.58363332, -1.41973027,  0.64895995,  0.36404339],\n",
       "       [-0.18438546,  1.86489993, -1.2008856 , -1.21087394],\n",
       "       [ 0.32762706, -1.16706641,  1.05361367,  0.23280028],\n",
       "       [ 0.32762706, -0.66173869,  0.53334461, -0.02968594],\n",
       "       [-0.31238859, -1.41973027,  0.07088322, -0.16092905],\n",
       "       [ 0.45563019, -0.66173869,  0.59115228,  0.75777273],\n",
       "       [-1.08040737, -1.925058  , -0.27596282, -0.29217216],\n",
       "       [ 0.0716208 , -0.15641096,  0.7645753 ,  0.75777273],\n",
       "       [-0.18438546, -1.16706641, -0.16034748, -0.29217216],\n",
       "       [-0.18438546, -1.41973027,  0.70676763,  1.02025895],\n",
       "       [ 0.96764271, -0.15641096,  0.35992159,  0.23280028],\n",
       "       [-0.31238859, -0.91440255,  0.24430624,  0.10155717],\n",
       "       [-1.72042302, -1.925058  , -1.43211629, -1.21087394],\n",
       "       [-1.46441676,  0.34891676, -1.25869327, -1.34211705],\n",
       "       [ 0.32762706, -0.15641096,  0.47553693,  0.23280028],\n",
       "       [-1.59241989,  1.35957221, -1.60553931, -1.34211705],\n",
       "       [ 0.19962393,  0.85424449,  0.41772926,  0.4952865 ],\n",
       "       [ 0.0716208 ,  0.34891676,  0.59115228,  0.75777273],\n",
       "       [ 1.22364897, -0.66173869,  0.59115228,  0.23280028],\n",
       "       [-1.59241989,  0.34891676, -1.37430862, -1.34211705],\n",
       "       [-0.95240424,  1.10690835, -1.37430862, -1.21087394],\n",
       "       [-0.31238859, -0.66173869,  0.64895995,  1.02025895],\n",
       "       [-0.44039172, -1.16706641,  0.35992159, -0.02968594]])"
      ]
     },
     "execution_count": 8,
     "metadata": {},
     "output_type": "execute_result"
    }
   ],
   "source": [
    "from sklearn.preprocessing import StandardScaler\n",
    "sc = StandardScaler()\n",
    "sc.fit(X_train)\n",
    "X_train_std = sc.transform(X_train)\n",
    "X_test_std = sc.transform(X_test)\n",
    "X_train_std"
   ]
  },
  {
   "cell_type": "markdown",
   "metadata": {},
   "source": [
    "## 建立模型"
   ]
  },
  {
   "cell_type": "code",
   "execution_count": 9,
   "metadata": {},
   "outputs": [
    {
     "data": {
      "text/plain": [
       "LinearSVC(C=1.0, class_weight=None, dual=True, fit_intercept=True,\n",
       "     intercept_scaling=1, loss='squared_hinge', max_iter=1000,\n",
       "     multi_class='ovr', penalty='l2', random_state=0, tol=0.0001,\n",
       "     verbose=0)"
      ]
     },
     "execution_count": 9,
     "metadata": {},
     "output_type": "execute_result"
    }
   ],
   "source": [
    "model = LinearSVC(random_state=0) # 選用 LinearSVC 做 model\n",
    "model.fit(X_train_std, y_train) # training data 套用到 model 學習"
   ]
  },
  {
   "cell_type": "code",
   "execution_count": 10,
   "metadata": {},
   "outputs": [
    {
     "name": "stdout",
     "output_type": "stream",
     "text": [
      "             precision    recall  f1-score   support\n",
      "\n",
      "          1       1.00      1.00      1.00        12\n",
      "          2       0.93      1.00      0.97        14\n",
      "          3       1.00      0.91      0.95        11\n",
      "\n",
      "avg / total       0.97      0.97      0.97        37\n",
      "\n",
      "[[12  0  0]\n",
      " [ 0 14  0]\n",
      " [ 0  1 10]]\n"
     ]
    }
   ],
   "source": [
    "print(metrics.classification_report(y_test, model.predict(X_test_std)))\n",
    "print(metrics.confusion_matrix(y_test, model.predict(X_test_std)))"
   ]
  },
  {
   "cell_type": "code",
   "execution_count": 11,
   "metadata": {},
   "outputs": [
    {
     "data": {
      "text/plain": [
       "array([1, 1, 1, 1, 1, 1, 1, 1, 1, 1, 2, 2, 2, 2, 2, 2, 3, 2, 2, 2, 3, 3, 3,\n",
       "       3, 3, 3, 3, 3, 3, 3], dtype=int32)"
      ]
     },
     "execution_count": 11,
     "metadata": {},
     "output_type": "execute_result"
    }
   ],
   "source": [
    "# 使用先前 training set 的 scale 將 testing dataset 做縮放\n",
    "test_std = sc.transform(test.iloc[:,1:5])\n",
    "# 預測結果\n",
    "model_predict = model.predict(test_std)\n",
    "model_predict"
   ]
  },
  {
   "cell_type": "markdown",
   "metadata": {},
   "source": [
    "## 產生 Submission file"
   ]
  },
  {
   "cell_type": "code",
   "execution_count": 12,
   "metadata": {
    "collapsed": true
   },
   "outputs": [],
   "source": [
    "# Generate Submission File \n",
    "SVCSubmission = pd.DataFrame({ 'id': submission.id, 'type': model_predict })\n",
    "SVCSubmission.to_csv(\"data/submission.csv\", index=False)"
   ]
  },
  {
   "cell_type": "code",
   "execution_count": 13,
   "metadata": {},
   "outputs": [
    {
     "data": {
      "text/html": [
       "<div>\n",
       "<table border=\"1\" class=\"dataframe\">\n",
       "  <thead>\n",
       "    <tr style=\"text-align: right;\">\n",
       "      <th></th>\n",
       "      <th>id</th>\n",
       "      <th>type</th>\n",
       "    </tr>\n",
       "  </thead>\n",
       "  <tbody>\n",
       "    <tr>\n",
       "      <th>0</th>\n",
       "      <td>1</td>\n",
       "      <td>1</td>\n",
       "    </tr>\n",
       "    <tr>\n",
       "      <th>1</th>\n",
       "      <td>2</td>\n",
       "      <td>1</td>\n",
       "    </tr>\n",
       "    <tr>\n",
       "      <th>2</th>\n",
       "      <td>3</td>\n",
       "      <td>1</td>\n",
       "    </tr>\n",
       "    <tr>\n",
       "      <th>3</th>\n",
       "      <td>4</td>\n",
       "      <td>1</td>\n",
       "    </tr>\n",
       "    <tr>\n",
       "      <th>4</th>\n",
       "      <td>5</td>\n",
       "      <td>1</td>\n",
       "    </tr>\n",
       "    <tr>\n",
       "      <th>5</th>\n",
       "      <td>6</td>\n",
       "      <td>1</td>\n",
       "    </tr>\n",
       "    <tr>\n",
       "      <th>6</th>\n",
       "      <td>7</td>\n",
       "      <td>1</td>\n",
       "    </tr>\n",
       "    <tr>\n",
       "      <th>7</th>\n",
       "      <td>8</td>\n",
       "      <td>1</td>\n",
       "    </tr>\n",
       "    <tr>\n",
       "      <th>8</th>\n",
       "      <td>9</td>\n",
       "      <td>1</td>\n",
       "    </tr>\n",
       "    <tr>\n",
       "      <th>9</th>\n",
       "      <td>10</td>\n",
       "      <td>1</td>\n",
       "    </tr>\n",
       "    <tr>\n",
       "      <th>10</th>\n",
       "      <td>11</td>\n",
       "      <td>2</td>\n",
       "    </tr>\n",
       "    <tr>\n",
       "      <th>11</th>\n",
       "      <td>12</td>\n",
       "      <td>2</td>\n",
       "    </tr>\n",
       "    <tr>\n",
       "      <th>12</th>\n",
       "      <td>13</td>\n",
       "      <td>2</td>\n",
       "    </tr>\n",
       "    <tr>\n",
       "      <th>13</th>\n",
       "      <td>14</td>\n",
       "      <td>2</td>\n",
       "    </tr>\n",
       "    <tr>\n",
       "      <th>14</th>\n",
       "      <td>15</td>\n",
       "      <td>2</td>\n",
       "    </tr>\n",
       "    <tr>\n",
       "      <th>15</th>\n",
       "      <td>16</td>\n",
       "      <td>2</td>\n",
       "    </tr>\n",
       "    <tr>\n",
       "      <th>16</th>\n",
       "      <td>17</td>\n",
       "      <td>3</td>\n",
       "    </tr>\n",
       "    <tr>\n",
       "      <th>17</th>\n",
       "      <td>18</td>\n",
       "      <td>2</td>\n",
       "    </tr>\n",
       "    <tr>\n",
       "      <th>18</th>\n",
       "      <td>19</td>\n",
       "      <td>2</td>\n",
       "    </tr>\n",
       "    <tr>\n",
       "      <th>19</th>\n",
       "      <td>20</td>\n",
       "      <td>2</td>\n",
       "    </tr>\n",
       "    <tr>\n",
       "      <th>20</th>\n",
       "      <td>21</td>\n",
       "      <td>3</td>\n",
       "    </tr>\n",
       "    <tr>\n",
       "      <th>21</th>\n",
       "      <td>22</td>\n",
       "      <td>3</td>\n",
       "    </tr>\n",
       "    <tr>\n",
       "      <th>22</th>\n",
       "      <td>23</td>\n",
       "      <td>3</td>\n",
       "    </tr>\n",
       "    <tr>\n",
       "      <th>23</th>\n",
       "      <td>24</td>\n",
       "      <td>3</td>\n",
       "    </tr>\n",
       "    <tr>\n",
       "      <th>24</th>\n",
       "      <td>25</td>\n",
       "      <td>3</td>\n",
       "    </tr>\n",
       "    <tr>\n",
       "      <th>25</th>\n",
       "      <td>26</td>\n",
       "      <td>3</td>\n",
       "    </tr>\n",
       "    <tr>\n",
       "      <th>26</th>\n",
       "      <td>27</td>\n",
       "      <td>3</td>\n",
       "    </tr>\n",
       "    <tr>\n",
       "      <th>27</th>\n",
       "      <td>28</td>\n",
       "      <td>3</td>\n",
       "    </tr>\n",
       "    <tr>\n",
       "      <th>28</th>\n",
       "      <td>29</td>\n",
       "      <td>3</td>\n",
       "    </tr>\n",
       "    <tr>\n",
       "      <th>29</th>\n",
       "      <td>30</td>\n",
       "      <td>3</td>\n",
       "    </tr>\n",
       "  </tbody>\n",
       "</table>\n",
       "</div>"
      ],
      "text/plain": [
       "    id  type\n",
       "0    1     1\n",
       "1    2     1\n",
       "2    3     1\n",
       "3    4     1\n",
       "4    5     1\n",
       "5    6     1\n",
       "6    7     1\n",
       "7    8     1\n",
       "8    9     1\n",
       "9   10     1\n",
       "10  11     2\n",
       "11  12     2\n",
       "12  13     2\n",
       "13  14     2\n",
       "14  15     2\n",
       "15  16     2\n",
       "16  17     3\n",
       "17  18     2\n",
       "18  19     2\n",
       "19  20     2\n",
       "20  21     3\n",
       "21  22     3\n",
       "22  23     3\n",
       "23  24     3\n",
       "24  25     3\n",
       "25  26     3\n",
       "26  27     3\n",
       "27  28     3\n",
       "28  29     3\n",
       "29  30     3"
      ]
     },
     "execution_count": 13,
     "metadata": {},
     "output_type": "execute_result"
    }
   ],
   "source": [
    "# 再讀入確認結果\n",
    "submission = pd.read_csv('data/submission.csv', encoding = \"utf-8\", dtype = {'type': np.int32})\n",
    "submission"
   ]
  },
  {
   "cell_type": "markdown",
   "metadata": {},
   "source": [
    "## 我的結果"
   ]
  },
  {
   "cell_type": "markdown",
   "metadata": {},
   "source": [
    "![My result](week1Result.png)"
   ]
  }
 ],
 "metadata": {
  "kernelspec": {
   "display_name": "Python 2",
   "language": "python",
   "name": "python2"
  },
  "language_info": {
   "codemirror_mode": {
    "name": "ipython",
    "version": 2
   },
   "file_extension": ".py",
   "mimetype": "text/x-python",
   "name": "python",
   "nbconvert_exporter": "python",
   "pygments_lexer": "ipython2",
   "version": "2.7.14"
  }
 },
 "nbformat": 4,
 "nbformat_minor": 2
}
